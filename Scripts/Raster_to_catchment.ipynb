{
 "cells": [
  {
   "cell_type": "code",
   "execution_count": null,
   "metadata": {},
   "outputs": [],
   "source": [
    "# Code to calculate percentages of soil type / landuse cathegory in each basin. \n",
    "# Soil type or landuse cathegory is ment to be stored in tif file.\n",
    "# Catchment should be in vectors (geopackage or shapefile).\n",
    "# Code is counting with borders, where percentage of cell inside the polygon is calculated.\n",
    "# Created by Vit Kovacka on 2023-12-20\n",
    "# CAFL Aon Impact Forecasting project\n",
    "\n",
    "# This Jupyter version is not running paralelly. "
   ]
  },
  {
   "cell_type": "code",
   "execution_count": null,
   "metadata": {},
   "outputs": [],
   "source": [
    "import rasterio\n",
    "from rasterio.features import shapes\n",
    "import geopandas as gpd\n",
    "import os"
   ]
  },
  {
   "cell_type": "code",
   "execution_count": null,
   "metadata": {},
   "outputs": [],
   "source": [
    "# Load the raster data\n",
    "raster_file = r\"V:\\Canada\\Soil\\Soil_perc_testing\\testing_raster_Fraser.tif\"\n",
    "raster = rasterio.open(raster_file)\n",
    "print(raster.crs)\n",
    "with rasterio.open(raster_file) as src:\n",
    "    image = src.read(1)  # read the first band\n",
    "    results = (\n",
    "        {'properties': {'raster_val': v}, 'geometry': s}\n",
    "        for i, (s, v) in enumerate(shapes(image, transform=src.transform))\n",
    "    )\n",
    "\n",
    "# Load the polygon data\n",
    "polygon_file = r\"V:\\Canada\\Soil\\Soil_perc_testing\\testing_catch_Fraser.gpkg\"\n",
    "polygon_gdf = gpd.read_file(polygon_file)\n",
    "print(polygon_gdf.crs)\n",
    "\n",
    "\n",
    "# Define the directory where the CSV files will be saved\n",
    "output_dir = r\"V:\\Canada\\Soil\\Soil_perc_testing\\output\"\n",
    "# Create the directory if it doesn't exist\n",
    "os.makedirs(output_dir, exist_ok=True)"
   ]
  },
  {
   "cell_type": "code",
   "execution_count": null,
   "metadata": {},
   "outputs": [],
   "source": [
    "# Convert the results to a GeoDataFrame\n",
    "raster_gdf = gpd.GeoDataFrame.from_features(list(results))\n",
    "print(\"Raster conversion done.\")\n",
    "\n",
    "# Get the total number of polygons\n",
    "total_polygons = len(polygon_gdf)\n",
    "\n",
    "# Assuming 'polygon_gdf' is a GeoDataFrame with multiple polygons\n",
    "for i, (idx, row) in enumerate(polygon_gdf.iterrows()):\n",
    "    single_polygon = gpd.GeoDataFrame([row])\n",
    "\n",
    "    # Calculate the intersection of the raster polygons and the single polygon\n",
    "    intersection = gpd.overlay(raster_gdf, single_polygon, how='intersection')\n",
    "\n",
    "    # Calculate the area of each intersection\n",
    "    intersection['area'] = intersection.geometry.area\n",
    "\n",
    "    # Calculate the total area covered by each unique raster value\n",
    "    total_areas = intersection.groupby('raster_val')['area'].sum()\n",
    "\n",
    "    # Calculate the overall percentages\n",
    "    total_area = total_areas.sum()\n",
    "    overall_percentages = (total_areas / total_area) * 100\n",
    "\n",
    "    # Print the current iteration number and the total number of polygons\n",
    "    print(f\"Calculating for polygon {i+1} out of {total_polygons}\")\n",
    "    \n",
    "    # Print the polygon COMID and overall percentages\n",
    "    print(f\"Polygon COMID: {row['COMID']}\")\n",
    "    print(overall_percentages)\n",
    "\n",
    "    # Save the percentages to a CSV file\n",
    "    output_file = os.path.join(output_dir, f\"{row['COMID']}_percentages.csv\")\n",
    "    overall_percentages.to_csv(output_file, header=True)"
   ]
  }
 ],
 "metadata": {
  "kernelspec": {
   "display_name": "icon_env",
   "language": "python",
   "name": "python3"
  },
  "language_info": {
   "codemirror_mode": {
    "name": "ipython",
    "version": 3
   },
   "file_extension": ".py",
   "mimetype": "text/x-python",
   "name": "python",
   "nbconvert_exporter": "python",
   "pygments_lexer": "ipython3",
   "version": "3.10.9"
  }
 },
 "nbformat": 4,
 "nbformat_minor": 2
}
